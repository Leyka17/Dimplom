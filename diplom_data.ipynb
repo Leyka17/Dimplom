{
  "cells": [
    {
      "cell_type": "code",
      "execution_count": null,
      "metadata": {
        "id": "bmlq2G9uhyW8"
      },
      "outputs": [],
      "source": [
        "!pip install llamaapi  meta-ai-api"
      ]
    },
    {
      "cell_type": "code",
      "source": [
        "!pip install pycaret"
      ],
      "metadata": {
        "id": "K3nJtyC1HiFs"
      },
      "execution_count": null,
      "outputs": []
    },
    {
      "cell_type": "code",
      "source": [
        "!pip install googletrans==3.1.0a0"
      ],
      "metadata": {
        "id": "ZkYKrz6JqT68"
      },
      "execution_count": null,
      "outputs": []
    },
    {
      "cell_type": "code",
      "execution_count": null,
      "metadata": {
        "id": "JCfqYpgncGmb"
      },
      "outputs": [],
      "source": [
        "from googletrans import Translator\n",
        "import pandas as pd\n",
        "from google.colab import drive\n",
        "import json\n",
        "import numpy as np"
      ]
    },
    {
      "cell_type": "code",
      "execution_count": null,
      "metadata": {
        "id": "pxQ4x7bt6LOY"
      },
      "outputs": [],
      "source": [
        "drive.mount('/content/drive')"
      ]
    },
    {
      "cell_type": "code",
      "execution_count": null,
      "metadata": {
        "id": "3EjtpiYw6PCy"
      },
      "outputs": [],
      "source": [
        "path_main_data='/content/drive/MyDrive/diplom_data/diplom_data.csv'\n",
        "path_f_comments='/content/drive/MyDrive/diplom_data/comments.csv'\n",
        "path_group_info='/content/drive/MyDrive/diplom_data/groups_info.csv'\n",
        "path_group_info1='/content/drive/MyDrive/diplom_data/groups_info1.csv'\n",
        "path_user_info='/content/drive/MyDrive/diplom_data/users_info.csv'\n",
        "path_user_info1=path_user_info='/content/drive/MyDrive/diplom_data/users_info.csv'\n",
        "path_user_activity='/content/drive/MyDrive/diplom_data/user_activity.csv'\n",
        "path_user_activity1='/content/drive/MyDrive/diplom_data/user_activity.csv'"
      ]
    },
    {
      "cell_type": "code",
      "execution_count": null,
      "metadata": {
        "id": "skH7jU7UcV1Z"
      },
      "outputs": [],
      "source": [
        "diplom_data=pd.read_csv(path_main_data)\n",
        "group_info=pd.read_csv(path_group_info)\n",
        "group_info1=pd.read_csv(path_group_info1)\n",
        "user_info=pd.read_csv(path_user_info)\n",
        "user_info1=pd.read_csv(path_user_info1)\n",
        "user_activity=pd.read_csv(path_user_activity)\n",
        "user_activity1=pd.read_csv(path_user_activity1)"
      ]
    },
    {
      "cell_type": "code",
      "source": [
        "f_comments=pd.read_csv(path_f_comments)"
      ],
      "metadata": {
        "id": "xJKXu3bMpsPK"
      },
      "execution_count": null,
      "outputs": []
    },
    {
      "cell_type": "code",
      "execution_count": null,
      "metadata": {
        "id": "NkUhoIoNcxy6"
      },
      "outputs": [],
      "source": [
        "def make_name(text):\n",
        "  if '/' in text:\n",
        "      return text.split('/')[-1]\n",
        "  return text\n"
      ]
    },
    {
      "cell_type": "code",
      "source": [
        "def cleae_surname(text):\n",
        "  if len(text.split(' '))>=2:\n",
        "    return ' '.join(text.split(' ')[1:])\n",
        "  return text\n",
        ""
      ],
      "metadata": {
        "id": "xa5lPieYm4-F"
      },
      "execution_count": null,
      "outputs": []
    },
    {
      "cell_type": "code",
      "source": [
        "diplom_data[\"nics\"]=diplom_data['Ссылка на профиль ВК'].apply(make_name)"
      ],
      "metadata": {
        "id": "cUJsHaM3nWBc"
      },
      "execution_count": null,
      "outputs": []
    },
    {
      "cell_type": "code",
      "execution_count": null,
      "metadata": {
        "id": "-itpzD4gdNzV"
      },
      "outputs": [],
      "source": [
        "diplom_data[\"Ваше ФИО\"]=diplom_data['Ваше ФИО'].apply(cleae_surname)"
      ]
    },
    {
      "cell_type": "code",
      "execution_count": null,
      "metadata": {
        "id": "76i5MBoMdfE2"
      },
      "outputs": [],
      "source": [
        "diplom_data[\"nics\"]=diplom_data[\"nics\"].str.replace('@', '')\n",
        "diplom_data"
      ]
    },
    {
      "cell_type": "code",
      "execution_count": null,
      "metadata": {
        "id": "NDNvB_-qGkKn"
      },
      "outputs": [],
      "source": [
        "group_info = group_info.drop(group_info[group_info['ID пользователя'] == 325067276].index)"
      ]
    },
    {
      "cell_type": "code",
      "execution_count": null,
      "metadata": {
        "id": "OjC2RcdmeMUr"
      },
      "outputs": [],
      "source": [
        "group_info=pd.concat([group_info, group_info1], axis=0,ignore_index=True)"
      ]
    },
    {
      "cell_type": "code",
      "source": [
        "group_info = group_info.dropna()\n",
        "group_info.reset_index(drop=True, inplace=True)\n",
        "group_info"
      ],
      "metadata": {
        "id": "0pdAOUToUZlv"
      },
      "execution_count": null,
      "outputs": []
    },
    {
      "cell_type": "code",
      "source": [
        "group_info=group_info.groupby('ID пользователя').head(10)\n",
        "group_info"
      ],
      "metadata": {
        "id": "1T7KTgqAUpeL"
      },
      "execution_count": null,
      "outputs": []
    },
    {
      "cell_type": "code",
      "source": [
        "group_info.reset_index(drop=True, inplace=True)\n",
        "group_info"
      ],
      "metadata": {
        "id": "70Zgxw73VF5e"
      },
      "execution_count": null,
      "outputs": []
    },
    {
      "cell_type": "code",
      "execution_count": null,
      "metadata": {
        "id": "hSoiydiUguMo"
      },
      "outputs": [],
      "source": [
        "only_group_info= group_info.drop_duplicates(subset=['ID группы'], keep='first')\n",
        "only_group_info"
      ]
    },
    {
      "cell_type": "code",
      "source": [
        "only_group_info.reset_index(drop=True, inplace=True)"
      ],
      "metadata": {
        "id": "hGoTqJyu_2yl"
      },
      "execution_count": null,
      "outputs": []
    },
    {
      "cell_type": "code",
      "execution_count": null,
      "metadata": {
        "id": "LW8cEurGg9gK"
      },
      "outputs": [],
      "source": [
        "vk_topics = [\n",
        "    \"Музыка\",\n",
        "    \"Фильмы\",\n",
        "    \"Игры\",\n",
        "    \"Спорт\",\n",
        "    \"Образование\",\n",
        "    \"Наука\",\n",
        "    \"Технологии\",\n",
        "    \"IT\",\n",
        "    \"Мода\",\n",
        "    \"красота\",\n",
        "    \"Здоровье\",\n",
        "    \"медицина\",\n",
        "    \"Юмор\",\n",
        "    \"Новости\",\n",
        "    \"политика\",\n",
        "    \"Путешествия\",\n",
        "    \"Кулинария\",\n",
        "    \"Авто\",\n",
        "    \"Дом\",\n",
        "    \"Литература\",\n",
        "     \"искусство\",\n",
        "    \"Психология\",\n",
        "    \"Бизнес\",\n",
        "    \"отношения\",\n",
        "    \"Аниме\",\n",
        "    \"Манга\",\n",
        "]"
      ]
    },
    {
      "cell_type": "code",
      "source": [
        "print(str(vk_topics))"
      ],
      "metadata": {
        "id": "cTKneSDpDiRw"
      },
      "execution_count": null,
      "outputs": []
    },
    {
      "cell_type": "code",
      "source": [
        "token=\"LL-dN2DynU8X8WYvmIKDuKUNZlJM8AypFD19NNxhfGCCOLWshQZ3NSOCuKvga3AhXeP\""
      ],
      "metadata": {
        "id": "qeX-pqllrMr1"
      },
      "execution_count": null,
      "outputs": []
    },
    {
      "cell_type": "code",
      "source": [
        "promt=\"определи какой из тем {topic} принадлежит сообщество из социальной сети по названию {name} и описанию {desc}.В ответе только одну тему одним словом из заданного списка\""
      ],
      "metadata": {
        "id": "WeaKKjxH2NBO"
      },
      "execution_count": null,
      "outputs": []
    },
    {
      "cell_type": "code",
      "source": [
        "import time\n",
        "def attempts(func):\n",
        "    def wrapper(*args, **kwargs):\n",
        "        res = None\n",
        "        a = 0\n",
        "        while res is None or a<5:\n",
        "            a += 1\n",
        "            try:\n",
        "                return func(*args, **kwargs)\n",
        "            except Exception as e:\n",
        "                if a < 5:\n",
        "                    print('!!!SLEEP!!!')\n",
        "                    time.sleep(2)\n",
        "                else:\n",
        "                    print(f'EXCEPTION: {e}')\n",
        "                    return None\n",
        "\n",
        "    return wrapper"
      ],
      "metadata": {
        "id": "_kQuT8L8Bcyw"
      },
      "execution_count": null,
      "outputs": []
    },
    {
      "cell_type": "code",
      "source": [
        "llama = LlamaAPI(token)"
      ],
      "metadata": {
        "id": "NG2Qq-xY2Zla"
      },
      "execution_count": null,
      "outputs": []
    },
    {
      "cell_type": "code",
      "source": [
        "@attempts\n",
        "def get_api(messege):\n",
        "  resp= llama.run(messege)\n",
        "  return resp"
      ],
      "metadata": {
        "id": "wXxF9dj8DdOX"
      },
      "execution_count": null,
      "outputs": []
    },
    {
      "cell_type": "code",
      "source": [
        "result={}\n",
        "def get_info(only_group_info):\n",
        "  for i in range(14,len(only_group_info)):\n",
        "    print(f\"{only_group_info['Название группы'][i]}\")\n",
        "\n",
        "    api_request_json = {\n",
        "      \"messages\": [\n",
        "          {\"role\": \"user\", \"content\": promt.format(topic=vk_topics, name=only_group_info['Название группы'][i],desc=only_group_info['Описание'][i])}],\n",
        "      }\n",
        "    response = get_api(api_request_json)\n",
        "    res=response.json().get('choices')[0].get(\"message\", None).get(\"content\")\n",
        "    print(f\"{i}:{res}\")\n",
        "    result[i]=res\n",
        "  return result\n",
        "\n"
      ],
      "metadata": {
        "id": "jVZH3Ipm70Kg"
      },
      "execution_count": null,
      "outputs": []
    },
    {
      "cell_type": "code",
      "source": [
        "my_res=get_info(only_group_info)"
      ],
      "metadata": {
        "id": "chiWQp8fDBbW"
      },
      "execution_count": null,
      "outputs": []
    },
    {
      "cell_type": "code",
      "source": [
        "import random"
      ],
      "metadata": {
        "id": "jlNG5fCBPq28"
      },
      "execution_count": null,
      "outputs": []
    },
    {
      "cell_type": "code",
      "source": [
        "result=[random.choice(vk_topics) for _ in range(len(only_group_info))]"
      ],
      "metadata": {
        "id": "1bhM-hQuOFTh"
      },
      "execution_count": null,
      "outputs": []
    },
    {
      "cell_type": "code",
      "source": [
        "only_group_info['theme']=result\n",
        "only_group_info"
      ],
      "metadata": {
        "id": "tppsGDb7O0U_"
      },
      "execution_count": null,
      "outputs": []
    },
    {
      "cell_type": "code",
      "source": [
        "only_group_info=only_group_info.drop(columns=['ID пользователя','Название группы','Тип','Описание'])\n",
        "only_group_info"
      ],
      "metadata": {
        "id": "AyXzhrEJQJO6"
      },
      "execution_count": null,
      "outputs": []
    },
    {
      "cell_type": "code",
      "source": [
        "df_merged = pd.merge(group_info, only_group_info, on='ID группы', how='left')\n",
        "df_merged"
      ],
      "metadata": {
        "id": "SfJch7HKQjj5"
      },
      "execution_count": null,
      "outputs": []
    },
    {
      "cell_type": "code",
      "source": [
        "t=df_merged.groupby('ID пользователя')['ID группы'].count()"
      ],
      "metadata": {
        "id": "LPTZ2nQdRXHd"
      },
      "execution_count": null,
      "outputs": []
    },
    {
      "cell_type": "code",
      "source": [
        "t=df_merged.groupby('ID пользователя')['theme'].apply(set).reset_index().apply(list)\n",
        "t['theme']=t['theme'].apply(list)\n",
        "t"
      ],
      "metadata": {
        "id": "ymE4NmzFRQGv"
      },
      "execution_count": null,
      "outputs": []
    },
    {
      "cell_type": "code",
      "source": [
        "from transformers import AutoTokenizer, AutoModel\n",
        "tokenizer = AutoTokenizer.from_pretrained('DeepPavlov/rubert-base-cased')\n",
        "model = AutoModel.from_pretrained('DeepPavlov/rubert-base-cased')"
      ],
      "metadata": {
        "id": "fZu8naPDRfQF"
      },
      "execution_count": null,
      "outputs": []
    },
    {
      "cell_type": "code",
      "source": [
        "import torch\n",
        "def get_embeddings(texts):\n",
        "    # Токенизация\n",
        "    inputs = tokenizer(texts, padding=True, truncation=True, return_tensors=\"pt\")\n",
        "\n",
        "    # Получение эмбеддингов\n",
        "    with torch.no_grad():\n",
        "        outputs = model(**inputs)\n",
        "\n",
        "    # Усреднение по всем токенам для получения одного эмбеддинга на предложение\n",
        "    embeddings = outputs.last_hidden_state.mean(dim=1)\n",
        "    return embeddings.numpy()"
      ],
      "metadata": {
        "id": "u4JSTrJ9WX2q"
      },
      "execution_count": null,
      "outputs": []
    },
    {
      "cell_type": "code",
      "source": [
        "t['embeddings'] = t['theme'].apply(lambda topics: get_embeddings(topics).numpy())"
      ],
      "metadata": {
        "id": "WY5IVShDWm-Z"
      },
      "execution_count": null,
      "outputs": []
    },
    {
      "cell_type": "code",
      "source": [
        "t.columns"
      ],
      "metadata": {
        "id": "mXqMPxVnXeuD"
      },
      "execution_count": null,
      "outputs": []
    },
    {
      "cell_type": "code",
      "source": [
        "result_vec=df_merged.pivot_table(index='ID пользователя', columns='theme', aggfunc='size', fill_value=0)"
      ],
      "metadata": {
        "id": "uxWimAAnZ6x2"
      },
      "execution_count": null,
      "outputs": []
    },
    {
      "cell_type": "code",
      "source": [
        "result_vec"
      ],
      "metadata": {
        "id": "qcgkXoVJFc61"
      },
      "execution_count": null,
      "outputs": []
    },
    {
      "cell_type": "code",
      "source": [
        "result_vec=result_vec.applymap(lambda x: 1 if x > 0 else 0)\n",
        "result_vec"
      ],
      "metadata": {
        "id": "SmPw9nYEaMzQ"
      },
      "execution_count": null,
      "outputs": []
    },
    {
      "cell_type": "code",
      "source": [
        "diplom_data=diplom_data.rename(columns={'id':'ID пользователя'})"
      ],
      "metadata": {
        "id": "AiYXSDW0aYtA"
      },
      "execution_count": null,
      "outputs": []
    },
    {
      "cell_type": "code",
      "source": [
        "diplom_data = pd.merge(diplom_data, t, on='ID пользователя', how='left')\n",
        "diplom_data"
      ],
      "metadata": {
        "id": "LHrRljZJcQ3C"
      },
      "execution_count": null,
      "outputs": []
    },
    {
      "cell_type": "code",
      "source": [
        "diplom_data = diplom_data.dropna()\n",
        "diplom_data.reset_index(drop=True, inplace=True)\n",
        "diplom_data"
      ],
      "metadata": {
        "id": "fWmkTF4pdzQe"
      },
      "execution_count": null,
      "outputs": []
    },
    {
      "cell_type": "code",
      "source": [
        "diplom_data = diplom_data.astype({col: 'int' for col in diplom_data.columns if diplom_data[col].dtype == 'float'})\n",
        "diplom_data"
      ],
      "metadata": {
        "id": "3ROmHYq0eRjn"
      },
      "execution_count": null,
      "outputs": []
    },
    {
      "cell_type": "code",
      "source": [
        "def generate_random_list_with_repeats(original_list, min_repeats=10, max_repeats=25):\n",
        "    random_list = []\n",
        "    for item in original_list:\n",
        "        repeats = random.randint(min_repeats, max_repeats)\n",
        "        random_list.extend([item] * repeats)\n",
        "    random.shuffle(random_list)\n",
        "    return random_list"
      ],
      "metadata": {
        "id": "OLgoXiKnea2a"
      },
      "execution_count": null,
      "outputs": []
    },
    {
      "cell_type": "code",
      "source": [
        "res_comment=generate_random_list_with_repeats(diplom_data['ID пользователя'].tolist())"
      ],
      "metadata": {
        "id": "FZ-XM5QUf4VD"
      },
      "execution_count": null,
      "outputs": []
    },
    {
      "cell_type": "code",
      "source": [
        "df_comments=pd.DataFrame({'id':res_comment,'comment':f_comments['clean_text'][:len(res_comment)].tolist()})\n",
        "df_comments"
      ],
      "metadata": {
        "id": "ujCWkJPIgfF0"
      },
      "execution_count": null,
      "outputs": []
    },
    {
      "cell_type": "code",
      "source": [
        "ts=Translator()"
      ],
      "metadata": {
        "id": "ouWgoG5DsLni"
      },
      "execution_count": null,
      "outputs": []
    },
    {
      "cell_type": "code",
      "source": [
        "def translate(text):\n",
        "  return ts.translate(text, dest='ru').text"
      ],
      "metadata": {
        "id": "A20EVnattA41"
      },
      "execution_count": null,
      "outputs": []
    },
    {
      "cell_type": "code",
      "source": [
        "df_comments['ru_comment']=df_comments.comment.apply(translate)"
      ],
      "metadata": {
        "id": "tMmuXL3msZBY"
      },
      "execution_count": null,
      "outputs": []
    },
    {
      "cell_type": "code",
      "source": [
        "df_comments=df_comments.drop(columns=['comment'])"
      ],
      "metadata": {
        "id": "MgrIL0iSu8Jf"
      },
      "execution_count": null,
      "outputs": []
    },
    {
      "cell_type": "code",
      "source": [
        "!pip install transformers"
      ],
      "metadata": {
        "id": "NQl8icaXvEIy"
      },
      "execution_count": null,
      "outputs": []
    },
    {
      "cell_type": "code",
      "source": [
        "# Use a pipeline as a high-level helper\n",
        "from transformers import pipeline\n",
        "\n",
        "\n",
        "pipe = pipeline(\"text-classification\", model=\"sismetanin/sbert-ru-sentiment-rusentiment\")"
      ],
      "metadata": {
        "id": "sB_RNOi5Pr_r"
      },
      "execution_count": null,
      "outputs": []
    },
    {
      "cell_type": "code",
      "source": [
        "pipe('с уважением дмитрий')"
      ],
      "metadata": {
        "id": "Z8x9nt8SchMC"
      },
      "execution_count": null,
      "outputs": []
    },
    {
      "cell_type": "code",
      "source": [
        "# Use a pipeline as a high-level helper\n",
        "from transformers import pipeline\n",
        "\n",
        "pipe = pipeline(\"text-classification\", model=\"sismetanin/rubert-ru-sentiment-rusentiment\")"
      ],
      "metadata": {
        "id": "aEAoP4MRv9ne"
      },
      "execution_count": null,
      "outputs": []
    },
    {
      "cell_type": "code",
      "source": [
        "def get_label(text):\n",
        "  return pipe(text)[0]['label']"
      ],
      "metadata": {
        "id": "24qms9Koxk7m"
      },
      "execution_count": null,
      "outputs": []
    },
    {
      "cell_type": "code",
      "source": [
        "df_comments['label']=df_comments.ru_comment.apply(get_label)"
      ],
      "metadata": {
        "id": "f_OD8xQGyTnP"
      },
      "execution_count": null,
      "outputs": []
    },
    {
      "cell_type": "code",
      "source": [
        "df_comments.label.value_counts()"
      ],
      "metadata": {
        "id": "p3qSUYfwy_-m"
      },
      "execution_count": null,
      "outputs": []
    },
    {
      "cell_type": "code",
      "source": [
        "category_counts = df_comments['label'].value_counts()\n",
        "category_counts"
      ],
      "metadata": {
        "id": "zdYUqG_Tza4Y"
      },
      "execution_count": null,
      "outputs": []
    },
    {
      "cell_type": "code",
      "source": [
        "category_counts = df_comments.groupby(['id', 'label']).size().unstack(fill_value=0)\n",
        "category_counts"
      ],
      "metadata": {
        "id": "4S-P6jRb1gMC"
      },
      "execution_count": null,
      "outputs": []
    },
    {
      "cell_type": "code",
      "source": [
        "total_counts = category_counts.sum(axis=1)\n",
        "total_counts"
      ],
      "metadata": {
        "id": "-Aom6nTE3nmF"
      },
      "execution_count": null,
      "outputs": []
    },
    {
      "cell_type": "code",
      "source": [
        "category_b_percentage = category_counts['LABEL_0'] / total_counts\n",
        "category_b_percentage"
      ],
      "metadata": {
        "id": "IpnIjkXH3vSR"
      },
      "execution_count": null,
      "outputs": []
    },
    {
      "cell_type": "code",
      "source": [
        "diplom_data['toxic'] = diplom_data['ID пользователя'].map(lambda user_id: 1 if category_b_percentage.loc[user_id] > 0.17 else 0)\n",
        "diplom_data"
      ],
      "metadata": {
        "id": "IkMtczod4NaB"
      },
      "execution_count": null,
      "outputs": []
    },
    {
      "cell_type": "code",
      "source": [
        "import matplotlib.pyplot as plt\n",
        "plt.figure(figsize=(8, 6))\n",
        "diplom_data['toxic'].value_counts().plot(kind='bar', color=['blue', 'orange'])"
      ],
      "metadata": {
        "id": "gdnI107U4oyn"
      },
      "execution_count": null,
      "outputs": []
    },
    {
      "cell_type": "code",
      "source": [
        "grouped = diplom_data.groupby(['Ваша учебная группа', 'toxic']).size().unstack(fill_value=0)\n",
        "\n",
        "# Переименовываем колонки для удобства\n",
        "grouped.columns = ['Не токсичные', 'Токсичные']\n",
        "\n",
        "# Шаг 3: Построение графика\n",
        "grouped.plot(kind='bar', stacked=True, figsize=(10, 6))\n"
      ],
      "metadata": {
        "id": "np1MHu3E6y3v"
      },
      "execution_count": null,
      "outputs": []
    },
    {
      "cell_type": "code",
      "source": [
        "diplom_data['Ваша учебная группа'].astype(int).value_counts().index"
      ],
      "metadata": {
        "id": "O62zkGMpzNNh"
      },
      "execution_count": null,
      "outputs": []
    },
    {
      "cell_type": "code",
      "source": [],
      "metadata": {
        "id": "iRzmvug6ybiQ"
      },
      "execution_count": null,
      "outputs": []
    },
    {
      "cell_type": "code",
      "source": [
        "diplom_data['Ваша область учебных интересов'].value_counts().plot(kind='bar', color=['blue', 'orange'])"
      ],
      "metadata": {
        "id": "UIezIvnB6MEH"
      },
      "execution_count": null,
      "outputs": []
    },
    {
      "cell_type": "code",
      "source": [
        "group_interest=diplom_data.groupby('Ваша учебная группа').sum()"
      ],
      "metadata": {
        "id": "dFXyt8RspiKA"
      },
      "execution_count": null,
      "outputs": []
    },
    {
      "cell_type": "code",
      "source": [
        "group_interest"
      ],
      "metadata": {
        "id": "tNHwVEkNq11p"
      },
      "execution_count": null,
      "outputs": []
    },
    {
      "cell_type": "code",
      "source": [
        "grouped = diplom_data.groupby(['Ваша учебная группа', 'Ваша область учебных интересов']).size().unstack().fillna(0)\n",
        "grouped.plot(kind='bar',  figsize=(12, 8))"
      ],
      "metadata": {
        "id": "1llsAZwZp5Op"
      },
      "execution_count": null,
      "outputs": []
    },
    {
      "cell_type": "code",
      "source": [
        "grouped_theme = diplom_data.groupby('Ваша учебная группа').sum()"
      ],
      "metadata": {
        "id": "A3eH-o_L5Kkf"
      },
      "execution_count": null,
      "outputs": []
    },
    {
      "cell_type": "code",
      "source": [
        "grouped_theme=grouped_theme.drop(columns=set(grouped_theme.columns)-set(vk_topics))\n",
        "grouped_theme"
      ],
      "metadata": {
        "id": "HDaABYow0_yj"
      },
      "execution_count": null,
      "outputs": []
    },
    {
      "cell_type": "code",
      "source": [
        "grouped_theme.plot(kind='bar',  figsize=(12, 8))\n",
        "plt.legend(title='Интересы', bbox_to_anchor=(1.05, 1), loc='upper left')"
      ],
      "metadata": {
        "id": "TKilEyOe4Lva"
      },
      "execution_count": null,
      "outputs": []
    },
    {
      "cell_type": "code",
      "source": [
        "grouped = diplom_data.groupby(['Ваша учебная группа', 'toxic']).size().unstack(fill_value=0)\n",
        "\n",
        "# Переименовываем колонки для удобства\n",
        "grouped.columns = ['Не токсичные', 'Токсичные']\n",
        "\n",
        "# Шаг 3: Построение графика\n",
        "grouped.plot(kind='bar', stacked=True, figsize=(10, 6))\n"
      ],
      "metadata": {
        "id": "vRm90pF009lm"
      },
      "execution_count": null,
      "outputs": []
    },
    {
      "cell_type": "code",
      "source": [
        "plt.figure(figsize=(10, 6))\n",
        "topic_distribution.plot(kind='bar')\n"
      ],
      "metadata": {
        "id": "SNJgoXqW5thh"
      },
      "execution_count": null,
      "outputs": []
    },
    {
      "cell_type": "code",
      "source": [
        "import seaborn as sns"
      ],
      "metadata": {
        "id": "XeRSZzDv5zB3"
      },
      "execution_count": null,
      "outputs": []
    },
    {
      "cell_type": "code",
      "source": [
        "sns.histplot(diplom_data['Ваш егэ бал по математике'], kde=True, bins=10)"
      ],
      "metadata": {
        "id": "4ul-SHz36IJD"
      },
      "execution_count": null,
      "outputs": []
    },
    {
      "cell_type": "code",
      "source": [
        "sns.histplot(diplom_data['Ваш ЕГЭ бал по физике/инфе'], kde=True, bins=10)"
      ],
      "metadata": {
        "id": "Sh_9YEjh6fRT"
      },
      "execution_count": null,
      "outputs": []
    },
    {
      "cell_type": "code",
      "source": [
        "sns.histplot(diplom_data['Ваш ЕГЭ бал по русскому языку'], kde=True, bins=10)"
      ],
      "metadata": {
        "id": "aCl2ukdy6pCr"
      },
      "execution_count": null,
      "outputs": []
    },
    {
      "cell_type": "code",
      "source": [
        "from sklearn.preprocessing import OneHotEncoder\n",
        "from sklearn.compose import ColumnTransformer"
      ],
      "metadata": {
        "id": "6QCcYdQu7HIw"
      },
      "execution_count": null,
      "outputs": []
    },
    {
      "cell_type": "code",
      "source": [
        "diplom_data.columns"
      ],
      "metadata": {
        "id": "wPTYa0L-cpOn"
      },
      "execution_count": null,
      "outputs": []
    },
    {
      "cell_type": "code",
      "source": [
        "diplom_data['Ваша область учебных интересов'] = diplom_data['Ваша область учебных интересов'].apply(get_embeddings)"
      ],
      "metadata": {
        "id": "5_mBdhjvcjVJ"
      },
      "execution_count": null,
      "outputs": []
    },
    {
      "cell_type": "code",
      "source": [
        "preprocessor = ColumnTransformer(\n",
        "    transformers=[\n",
        "        ('cat', OneHotEncoder(), ['Ваша область учебных интересов','sex'])\n",
        "    ])\n",
        "encoded_features = preprocessor.fit_transform(diplom_data)"
      ],
      "metadata": {
        "id": "CRICF7pP6z1u"
      },
      "execution_count": null,
      "outputs": []
    },
    {
      "cell_type": "code",
      "source": [
        "encoded_df = pd.DataFrame(encoded_features.toarray(), columns=list(preprocessor.get_feature_names_out()))\n",
        "result_df = pd.concat([diplom_data, encoded_df], axis=1)"
      ],
      "metadata": {
        "id": "nL9KGwRz7QJd"
      },
      "execution_count": null,
      "outputs": []
    },
    {
      "cell_type": "code",
      "source": [
        "result_df=result_df.drop(columns=['Отметка времени','Ваша учебная группа','Ссылка на профиль ВК','Ваша область учебных интересов','sex','nics'])\n",
        "result_df"
      ],
      "metadata": {
        "id": "FPmoEfbv7lUa"
      },
      "execution_count": null,
      "outputs": []
    },
    {
      "cell_type": "code",
      "source": [
        "result_df=result_df.astype({col: 'float' for col in result_df.columns if result_df[col].dtype == 'int'})\n",
        "result_df=result_df.astype({'ID пользователя':'int'})\n",
        "result_df"
      ],
      "metadata": {
        "id": "O1BQvmEe8WKH"
      },
      "execution_count": null,
      "outputs": []
    },
    {
      "cell_type": "code",
      "source": [
        "result_df_clust=result_df.drop(columns=['ID пользователя','Ваше ФИО'])"
      ],
      "metadata": {
        "id": "NEwXjFaZ80mE"
      },
      "execution_count": null,
      "outputs": []
    },
    {
      "cell_type": "code",
      "source": [
        "!pip install hdbscan umap-learn"
      ],
      "metadata": {
        "id": "xtOJzTIj-PTM"
      },
      "execution_count": null,
      "outputs": []
    },
    {
      "cell_type": "code",
      "source": [
        "import hdbscan\n",
        "import umap"
      ],
      "metadata": {
        "id": "Uboizr3g-aIx"
      },
      "execution_count": null,
      "outputs": []
    },
    {
      "cell_type": "code",
      "source": [
        "from sklearn.preprocessing import StandardScaler\n",
        "scaler = StandardScaler()\n",
        "result_df_clust_scal = scaler.fit_transform(result_df_clust)\n"
      ],
      "metadata": {
        "id": "J2bWHzQb_kzn"
      },
      "execution_count": null,
      "outputs": []
    },
    {
      "cell_type": "code",
      "source": [
        "scaled_df = pd.DataFrame(result_df_clust_scal, columns=result_df_clust.columns)\n",
        "scaled_df"
      ],
      "metadata": {
        "id": "m4opc8zdAwx3"
      },
      "execution_count": null,
      "outputs": []
    },
    {
      "cell_type": "code",
      "source": [
        "clusterer = hdbscan.HDBSCAN(min_cluster_size=5,min_samples=3, metric='chebyshev' , alpha=1.3)\n",
        "result_df_clust['cluster'] = clusterer.fit_predict(scaled_df)\n",
        "result_df_clust"
      ],
      "metadata": {
        "id": "PWgmcSeT-e4Z"
      },
      "execution_count": null,
      "outputs": []
    },
    {
      "cell_type": "code",
      "source": [],
      "metadata": {
        "id": "2YoFGreKGcmD"
      },
      "execution_count": null,
      "outputs": []
    },
    {
      "cell_type": "code",
      "source": [
        "umap_reducer = umap.UMAP(n_neighbors=15, min_dist=0.1)\n",
        "X_umap = umap_reducer.fit_transform(result_df_clust)"
      ],
      "metadata": {
        "id": "JFiZR11JArkg"
      },
      "execution_count": null,
      "outputs": []
    },
    {
      "cell_type": "code",
      "source": [
        "X_umap"
      ],
      "metadata": {
        "id": "ckW4c9HfE9I4"
      },
      "execution_count": null,
      "outputs": []
    },
    {
      "cell_type": "code",
      "source": [
        "sns.scatterplot( data=X_umap)"
      ],
      "metadata": {
        "id": "Dmx-Nzw9EzPy"
      },
      "execution_count": null,
      "outputs": []
    },
    {
      "cell_type": "code",
      "source": [
        "from pycaret.clustering import *"
      ],
      "metadata": {
        "id": "fU7pPGT6HZgV"
      },
      "execution_count": null,
      "outputs": []
    },
    {
      "cell_type": "code",
      "source": [
        "exp = ClusteringExperiment()"
      ],
      "metadata": {
        "id": "THGQf0nvHw4K"
      },
      "execution_count": null,
      "outputs": []
    },
    {
      "cell_type": "code",
      "source": [
        "exp.setup(data=result_df_clust, normalize=True)"
      ],
      "metadata": {
        "id": "IvWQj0jOKuir"
      },
      "execution_count": null,
      "outputs": []
    },
    {
      "cell_type": "code",
      "source": [
        "exp.models()"
      ],
      "metadata": {
        "id": "z-2kqKozwr4j"
      },
      "execution_count": null,
      "outputs": []
    },
    {
      "cell_type": "code",
      "source": [
        "custom_params = { 'metric':'manhattan' }"
      ],
      "metadata": {
        "id": "Mz-mmeXoFej1"
      },
      "execution_count": null,
      "outputs": []
    },
    {
      "cell_type": "code",
      "source": [
        "kmeans_model = exp.create_model('birch', num_clusters=3)"
      ],
      "metadata": {
        "id": "MyoYlJMiLFLP"
      },
      "execution_count": null,
      "outputs": []
    },
    {
      "cell_type": "code",
      "source": [],
      "metadata": {
        "id": "c2N2dK-ISxqE"
      },
      "execution_count": null,
      "outputs": []
    },
    {
      "cell_type": "code",
      "source": [
        "result_df_clust['cluster'] = exp.assign_model(kmeans_model)['Cluster']"
      ],
      "metadata": {
        "id": "m_l8QNS7LkWp"
      },
      "execution_count": null,
      "outputs": []
    },
    {
      "cell_type": "code",
      "source": [
        "result_df_clust"
      ],
      "metadata": {
        "id": "0R4MqvryL2Du"
      },
      "execution_count": null,
      "outputs": []
    },
    {
      "cell_type": "code",
      "source": [
        "exp.plot_model(kmeans_model, plot='cluster')\n"
      ],
      "metadata": {
        "id": "1e_iiuyRMUP2"
      },
      "execution_count": null,
      "outputs": []
    },
    {
      "cell_type": "code",
      "source": [
        "exp.plot_model(kmeans_model, plot='distribution')\n"
      ],
      "metadata": {
        "id": "gvFk5Ss5Ne8r"
      },
      "execution_count": null,
      "outputs": []
    },
    {
      "cell_type": "code",
      "source": [],
      "metadata": {
        "id": "9h8TOFFPPW54"
      },
      "execution_count": null,
      "outputs": []
    },
    {
      "cell_type": "code",
      "source": [
        "custom_params = {'threshold': 2.5, 'branching_factor': 80}\n",
        "\n",
        "# Обучение модели BIRCH с дополнительными параметрами\n",
        "birch_model = exp.create_model('birch',num_clusters=3, **custom_params)"
      ],
      "metadata": {
        "id": "YehfFpQBNn0n"
      },
      "execution_count": null,
      "outputs": []
    },
    {
      "cell_type": "code",
      "source": [
        "all_models = exp.models()\n",
        "all_models"
      ],
      "metadata": {
        "id": "L4uLZfu0OxSV"
      },
      "execution_count": null,
      "outputs": []
    },
    {
      "cell_type": "code",
      "source": [
        "result_df_clust['cluster_hdb'] = exp.assign_model(birch_model)['Cluster']"
      ],
      "metadata": {
        "id": "-roXoCxLNuZb"
      },
      "execution_count": null,
      "outputs": []
    },
    {
      "cell_type": "code",
      "source": [
        "result_df_clust"
      ],
      "metadata": {
        "id": "LZI7BKFYO96K"
      },
      "execution_count": null,
      "outputs": []
    },
    {
      "cell_type": "code",
      "source": [
        "exp.plot_model(birch_model, plot='distribution')"
      ],
      "metadata": {
        "id": "5oem0WqcPXss"
      },
      "execution_count": null,
      "outputs": []
    },
    {
      "cell_type": "code",
      "source": [
        "exp.plot_model(birch_model, plot='cluster')"
      ],
      "metadata": {
        "id": "fbH0PolfmHlc"
      },
      "execution_count": null,
      "outputs": []
    },
    {
      "cell_type": "code",
      "source": [
        "diplom_data['result']=result_df_clust['cluster_hdb']"
      ],
      "metadata": {
        "id": "TRrv6JBZS0OI"
      },
      "execution_count": null,
      "outputs": []
    },
    {
      "cell_type": "code",
      "source": [
        "diplom_data"
      ],
      "metadata": {
        "id": "CrJsuP6yQ-g7"
      },
      "execution_count": null,
      "outputs": []
    },
    {
      "cell_type": "code",
      "source": [
        "grouped_bf = diplom_data.groupby('Ваша учебная группа').apply(lambda x: x['Ваше ФИО'].tolist())\n",
        "grouped_bf[102]"
      ],
      "metadata": {
        "id": "olzwQJCITOWM"
      },
      "execution_count": null,
      "outputs": []
    },
    {
      "cell_type": "code",
      "source": [
        "grouped = diplom_data.groupby('result')[['Ваша учебная группа', 'result','Ваше ФИО']].apply(lambda x: x.values.tolist())\n",
        "grouped['Cluster 0']"
      ],
      "metadata": {
        "id": "Xj4oMAdGUKC2"
      },
      "execution_count": null,
      "outputs": []
    },
    {
      "cell_type": "code",
      "source": [
        "grouped_theme = diplom_data.groupby('result').sum()"
      ],
      "metadata": {
        "id": "Aek3K4nK5Hmy"
      },
      "execution_count": null,
      "outputs": []
    },
    {
      "cell_type": "code",
      "source": [
        "grouped_theme=grouped_theme.drop(columns=set(grouped_theme.columns)-set(vk_topics))\n",
        "grouped_theme"
      ],
      "metadata": {
        "id": "tzzIULr45wLp"
      },
      "execution_count": null,
      "outputs": []
    },
    {
      "cell_type": "code",
      "source": [
        "grouped_theme.plot(kind='bar',  figsize=(12, 8))\n",
        "plt.legend(title='Интересы', bbox_to_anchor=(1.05, 1), loc='upper left')"
      ],
      "metadata": {
        "id": "hDM_xVWa5l3s"
      },
      "execution_count": null,
      "outputs": []
    },
    {
      "cell_type": "code",
      "source": [
        "grouped = diplom_data.groupby(['result', 'toxic']).size().unstack().fillna(0)\n",
        "grouped.plot(kind='bar',  figsize=(12, 8))"
      ],
      "metadata": {
        "id": "1_5vYgXb6VmM"
      },
      "execution_count": null,
      "outputs": []
    },
    {
      "cell_type": "code",
      "source": [
        "from sklearn.cluster import Birch\n",
        "model = Birch(branching_factor=30, n_clusters=3, threshold=2.5)\n",
        "model.fit(scaled_df)\n",
        "pred = model.predict(scaled_df)\n",
        "pred"
      ],
      "metadata": {
        "id": "Eu9v0NchUdTw"
      },
      "execution_count": null,
      "outputs": []
    },
    {
      "cell_type": "code",
      "source": [],
      "metadata": {
        "id": "kw7fXnRhjhO3"
      },
      "execution_count": null,
      "outputs": []
    },
    {
      "cell_type": "code",
      "source": [
        "diplom_data['birch']=pred\n",
        "diplom_data"
      ],
      "metadata": {
        "id": "Cf__wTJbjjmx"
      },
      "execution_count": null,
      "outputs": []
    }
  ],
  "metadata": {
    "colab": {
      "provenance": []
    },
    "kernelspec": {
      "display_name": "Python 3",
      "name": "python3"
    },
    "language_info": {
      "name": "python"
    }
  },
  "nbformat": 4,
  "nbformat_minor": 0
}